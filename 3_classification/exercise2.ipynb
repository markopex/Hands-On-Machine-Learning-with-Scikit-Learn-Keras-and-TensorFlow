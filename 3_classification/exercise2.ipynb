{
 "cells": [
  {
   "cell_type": "code",
   "execution_count": 1,
   "metadata": {},
   "outputs": [
    {
     "name": "stderr",
     "output_type": "stream",
     "text": [
      "c:\\ProgramData\\anaconda3\\Lib\\site-packages\\sklearn\\datasets\\_openml.py:1002: FutureWarning: The default value of `parser` will change from `'liac-arff'` to `'auto'` in 1.4. You can set `parser='auto'` to silence this warning. Therefore, an `ImportError` will be raised from 1.4 if the dataset is dense and pandas is not installed. Note that the pandas parser may return different data types. See the Notes Section in fetch_openml's API doc for details.\n",
      "  warn(\n"
     ]
    }
   ],
   "source": [
    "from sklearn.datasets import fetch_openml\n",
    "\n",
    "mnist = fetch_openml('mnist_784', as_frame=False)"
   ]
  },
  {
   "cell_type": "code",
   "execution_count": 6,
   "metadata": {},
   "outputs": [
    {
     "data": {
      "text/plain": [
       "(70000, 784)"
      ]
     },
     "execution_count": 6,
     "metadata": {},
     "output_type": "execute_result"
    }
   ],
   "source": [
    "X, y = mnist.data, mnist.target\n",
    "X.shape"
   ]
  },
  {
   "cell_type": "code",
   "execution_count": 7,
   "metadata": {},
   "outputs": [],
   "source": [
    "import numpy as np"
   ]
  },
  {
   "cell_type": "code",
   "execution_count": 29,
   "metadata": {},
   "outputs": [],
   "source": [
    "# expand dataset by shifting images in each direction by one pixel\n",
    "\n",
    "from numpy import ndarray\n",
    "from scipy.ndimage import shift\n",
    "\n",
    "def shift_image(image_array, dx, dy) -> ndarray:\n",
    "    \"\"\"\n",
    "    Shifts an image represented as a 1D array.\n",
    "\n",
    "    Parameters:\n",
    "    - image_array: 1D numpy array representing a 28x28 image.\n",
    "    - dx: Horizontal shift. Positive values shift right, negative values shift left.\n",
    "    - dy: Vertical shift. Positive values shift down, negative values shift up.\n",
    "\n",
    "    Returns:\n",
    "    - Shifted 1D numpy array representing the shifted 28x28 image.\n",
    "    \"\"\"\n",
    "    # Reshape the 1D array into a 2D array (28x28)\n",
    "    image_2d = image_array.reshape((28, 28))\n",
    "\n",
    "    # Perform the shift\n",
    "    shifted_image_2d = shift(image_2d, (dy, dx), cval=0)\n",
    "\n",
    "    # Reshape the shifted 2D array back into a 1D array\n",
    "    shifted_image_array = shifted_image_2d.reshape(-1)\n",
    "\n",
    "    return shifted_image_array\n",
    "\n",
    "def shift_images(images, shifts) -> ndarray:\n",
    "    \"\"\"\n",
    "    Shifts a batch of images represented as a 2D array in multiple directions using map.\n",
    "\n",
    "    Parameters:\n",
    "    - images: 2D numpy array where each row represents a 28x28 image.\n",
    "    - shifts: List of tuples (dx, dy) representing the shifts in multiple directions.\n",
    "\n",
    "    Returns:\n",
    "    - List of 2D numpy arrays with shifted images for each direction.\n",
    "    \"\"\"\n",
    "    shifted_images_list = np.array([[],[]])\n",
    "    for dx, dy in shifts:\n",
    "        shifted_images = np.array(list(map(lambda img: shift_image(img, dx, dy), images)))\n",
    "        np.concatenate((shifted_images_list, shifted_images), axis=0)\n",
    "    return shifted_images_list"
   ]
  },
  {
   "cell_type": "code",
   "execution_count": 30,
   "metadata": {},
   "outputs": [
    {
     "ename": "ValueError",
     "evalue": "all the input array dimensions except for the concatenation axis must match exactly, but along dimension 1, the array at index 0 has size 0 and the array at index 1 has size 784",
     "output_type": "error",
     "traceback": [
      "\u001b[1;31m---------------------------------------------------------------------------\u001b[0m",
      "\u001b[1;31mValueError\u001b[0m                                Traceback (most recent call last)",
      "Cell \u001b[1;32mIn[30], line 2\u001b[0m\n\u001b[0;32m      1\u001b[0m shifts \u001b[38;5;241m=\u001b[39m [(\u001b[38;5;241m1\u001b[39m, \u001b[38;5;241m0\u001b[39m), (\u001b[38;5;241m0\u001b[39m, \u001b[38;5;241m1\u001b[39m), (\u001b[38;5;241m-\u001b[39m\u001b[38;5;241m1\u001b[39m, \u001b[38;5;241m0\u001b[39m), (\u001b[38;5;241m0\u001b[39m, \u001b[38;5;241m-\u001b[39m\u001b[38;5;241m1\u001b[39m)]  \u001b[38;5;66;03m# Shift right-up, left-down, and down\u001b[39;00m\n\u001b[1;32m----> 2\u001b[0m shifted_images_list \u001b[38;5;241m=\u001b[39m shift_images(X, shifts)\n",
      "Cell \u001b[1;32mIn[29], line 43\u001b[0m, in \u001b[0;36mshift_images\u001b[1;34m(images, shifts)\u001b[0m\n\u001b[0;32m     41\u001b[0m \u001b[38;5;28;01mfor\u001b[39;00m dx, dy \u001b[38;5;129;01min\u001b[39;00m shifts:\n\u001b[0;32m     42\u001b[0m     shifted_images \u001b[38;5;241m=\u001b[39m np\u001b[38;5;241m.\u001b[39marray(\u001b[38;5;28mlist\u001b[39m(\u001b[38;5;28mmap\u001b[39m(\u001b[38;5;28;01mlambda\u001b[39;00m img: shift_image(img, dx, dy), images)))\n\u001b[1;32m---> 43\u001b[0m     np\u001b[38;5;241m.\u001b[39mconcatenate((shifted_images_list, shifted_images), axis\u001b[38;5;241m=\u001b[39m\u001b[38;5;241m0\u001b[39m)\n\u001b[0;32m     44\u001b[0m \u001b[38;5;28;01mreturn\u001b[39;00m shifted_images_list\n",
      "File \u001b[1;32m<__array_function__ internals>:200\u001b[0m, in \u001b[0;36mconcatenate\u001b[1;34m(*args, **kwargs)\u001b[0m\n",
      "\u001b[1;31mValueError\u001b[0m: all the input array dimensions except for the concatenation axis must match exactly, but along dimension 1, the array at index 0 has size 0 and the array at index 1 has size 784"
     ]
    }
   ],
   "source": [
    "\n",
    "\n",
    "shifts = [(1, 0), (0, 1), (-1, 0), (0, -1)]  # Shift right-up, left-down, and down\n",
    "shifted_images_list = shift_images(X, shifts)"
   ]
  },
  {
   "cell_type": "code",
   "execution_count": 19,
   "metadata": {},
   "outputs": [
    {
     "ename": "AttributeError",
     "evalue": "'list' object has no attribute 'shape'",
     "output_type": "error",
     "traceback": [
      "\u001b[1;31m---------------------------------------------------------------------------\u001b[0m",
      "\u001b[1;31mAttributeError\u001b[0m                            Traceback (most recent call last)",
      "Cell \u001b[1;32mIn[19], line 1\u001b[0m\n\u001b[1;32m----> 1\u001b[0m shifted_images_list\u001b[38;5;241m.\u001b[39mshape\n",
      "\u001b[1;31mAttributeError\u001b[0m: 'list' object has no attribute 'shape'"
     ]
    }
   ],
   "source": [
    "shifted_images_list.shape"
   ]
  },
  {
   "cell_type": "code",
   "execution_count": 12,
   "metadata": {},
   "outputs": [
    {
     "ename": "ValueError",
     "evalue": "setting an array element with a sequence. The requested array has an inhomogeneous shape after 1 dimensions. The detected shape was (2,) + inhomogeneous part.",
     "output_type": "error",
     "traceback": [
      "\u001b[1;31m---------------------------------------------------------------------------\u001b[0m",
      "\u001b[1;31mValueError\u001b[0m                                Traceback (most recent call last)",
      "Cell \u001b[1;32mIn[12], line 1\u001b[0m\n\u001b[1;32m----> 1\u001b[0m X_shifted \u001b[38;5;241m=\u001b[39m np\u001b[38;5;241m.\u001b[39marray([X, shifted_images_list])\n\u001b[0;32m      2\u001b[0m Y_shilted \u001b[38;5;241m=\u001b[39m np\u001b[38;5;241m.\u001b[39marray([y,y,y,y,y])\n",
      "\u001b[1;31mValueError\u001b[0m: setting an array element with a sequence. The requested array has an inhomogeneous shape after 1 dimensions. The detected shape was (2,) + inhomogeneous part."
     ]
    }
   ],
   "source": [
    "X_shifted = np.array([X, shifted_images_list])\n",
    "Y_shilted = np.array([y,y,y,y,y])"
   ]
  },
  {
   "cell_type": "code",
   "execution_count": 3,
   "metadata": {},
   "outputs": [],
   "source": [
    "from sklearn.model_selection import train_test_split\n",
    "#split data into dataset\n",
    "\n",
    "X_train, X_test, y_train, y_test = train_test_split(X, y, test_size=0.3, random_state=42)"
   ]
  },
  {
   "cell_type": "code",
   "execution_count": null,
   "metadata": {},
   "outputs": [],
   "source": [
    "from sklearn.neighbors import KNeighborsClassifier\n",
    "# use best params found in previous exercise\n",
    "# {'n_neighbors': 3, 'weights': 'distance'}\n",
    "\n",
    "knn_clf = KNeighborsClassifier(n_neighbors=3, weights='distance')\n"
   ]
  }
 ],
 "metadata": {
  "kernelspec": {
   "display_name": "base",
   "language": "python",
   "name": "python3"
  },
  "language_info": {
   "codemirror_mode": {
    "name": "ipython",
    "version": 3
   },
   "file_extension": ".py",
   "mimetype": "text/x-python",
   "name": "python",
   "nbconvert_exporter": "python",
   "pygments_lexer": "ipython3",
   "version": "3.11.5"
  }
 },
 "nbformat": 4,
 "nbformat_minor": 2
}
